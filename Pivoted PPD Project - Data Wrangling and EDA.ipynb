{
 "cells": [
  {
   "cell_type": "markdown",
   "id": "4001a2dc",
   "metadata": {},
   "source": [
    "I've pivoted my Capstone project to focus on the investigate findings of complaints against PPD officers, as it relates to the officers race. What is the likelihood of a complaint against a PPD officer to be sustained, according to the race of the officer?"
   ]
  },
  {
   "cell_type": "code",
   "execution_count": 100,
   "id": "d50a60d4",
   "metadata": {},
   "outputs": [],
   "source": [
    "#import packages & data\n",
    "import pandas as pd\n",
    "import matplotlib.pyplot as plt\n",
    "\n",
    "df = pd.read_csv('ppd_complainant_demographics.csv')\n",
    "df_2 = pd.read_csv('ppd_complaints.csv')\n",
    "df_3 = pd.read_csv('ppd_complaint_disciplines.csv')"
   ]
  },
  {
   "cell_type": "code",
   "execution_count": 101,
   "id": "e962f039",
   "metadata": {},
   "outputs": [
    {
     "data": {
      "text/html": [
       "<div>\n",
       "<style scoped>\n",
       "    .dataframe tbody tr th:only-of-type {\n",
       "        vertical-align: middle;\n",
       "    }\n",
       "\n",
       "    .dataframe tbody tr th {\n",
       "        vertical-align: top;\n",
       "    }\n",
       "\n",
       "    .dataframe thead th {\n",
       "        text-align: right;\n",
       "    }\n",
       "</style>\n",
       "<table border=\"1\" class=\"dataframe\">\n",
       "  <thead>\n",
       "    <tr style=\"text-align: right;\">\n",
       "      <th></th>\n",
       "      <th>complaint_id</th>\n",
       "      <th>complainant_sex</th>\n",
       "      <th>complainant_race</th>\n",
       "      <th>complainant_age</th>\n",
       "      <th>objectid</th>\n",
       "    </tr>\n",
       "  </thead>\n",
       "  <tbody>\n",
       "    <tr>\n",
       "      <th>0</th>\n",
       "      <td>17-0210</td>\n",
       "      <td>Male</td>\n",
       "      <td>Latino</td>\n",
       "      <td>33.0</td>\n",
       "      <td>3645</td>\n",
       "    </tr>\n",
       "    <tr>\n",
       "      <th>1</th>\n",
       "      <td>17-0211</td>\n",
       "      <td>Male</td>\n",
       "      <td>Black</td>\n",
       "      <td>71.0</td>\n",
       "      <td>3646</td>\n",
       "    </tr>\n",
       "    <tr>\n",
       "      <th>2</th>\n",
       "      <td>17-0212</td>\n",
       "      <td>Male</td>\n",
       "      <td>Black</td>\n",
       "      <td>NaN</td>\n",
       "      <td>3647</td>\n",
       "    </tr>\n",
       "    <tr>\n",
       "      <th>3</th>\n",
       "      <td>17-0213</td>\n",
       "      <td>Female</td>\n",
       "      <td>Black</td>\n",
       "      <td>48.0</td>\n",
       "      <td>3648</td>\n",
       "    </tr>\n",
       "    <tr>\n",
       "      <th>4</th>\n",
       "      <td>17-0214</td>\n",
       "      <td>Female</td>\n",
       "      <td>Black</td>\n",
       "      <td>52.0</td>\n",
       "      <td>3649</td>\n",
       "    </tr>\n",
       "  </tbody>\n",
       "</table>\n",
       "</div>"
      ],
      "text/plain": [
       "  complaint_id complainant_sex complainant_race  complainant_age  objectid\n",
       "0      17-0210            Male           Latino             33.0      3645\n",
       "1      17-0211            Male            Black             71.0      3646\n",
       "2      17-0212            Male            Black              NaN      3647\n",
       "3      17-0213          Female            Black             48.0      3648\n",
       "4      17-0214          Female            Black             52.0      3649"
      ]
     },
     "execution_count": 101,
     "metadata": {},
     "output_type": "execute_result"
    }
   ],
   "source": [
    "#quickly exploring each dataframe\n",
    "df.head()"
   ]
  },
  {
   "cell_type": "code",
   "execution_count": 102,
   "id": "dbc37673",
   "metadata": {},
   "outputs": [
    {
     "data": {
      "text/plain": [
       "(4106, 5)"
      ]
     },
     "execution_count": 102,
     "metadata": {},
     "output_type": "execute_result"
    }
   ],
   "source": [
    "df.shape"
   ]
  },
  {
   "cell_type": "code",
   "execution_count": 103,
   "id": "42b6dcab",
   "metadata": {},
   "outputs": [
    {
     "name": "stdout",
     "output_type": "stream",
     "text": [
      "<class 'pandas.core.frame.DataFrame'>\n",
      "RangeIndex: 4106 entries, 0 to 4105\n",
      "Data columns (total 5 columns):\n",
      " #   Column            Non-Null Count  Dtype  \n",
      "---  ------            --------------  -----  \n",
      " 0   complaint_id      4106 non-null   object \n",
      " 1   complainant_sex   3931 non-null   object \n",
      " 2   complainant_race  3397 non-null   object \n",
      " 3   complainant_age   3313 non-null   float64\n",
      " 4   objectid          4106 non-null   int64  \n",
      "dtypes: float64(1), int64(1), object(3)\n",
      "memory usage: 160.5+ KB\n"
     ]
    }
   ],
   "source": [
    "df.info()"
   ]
  },
  {
   "cell_type": "code",
   "execution_count": 104,
   "id": "8385f288",
   "metadata": {},
   "outputs": [
    {
     "data": {
      "text/html": [
       "<div>\n",
       "<style scoped>\n",
       "    .dataframe tbody tr th:only-of-type {\n",
       "        vertical-align: middle;\n",
       "    }\n",
       "\n",
       "    .dataframe tbody tr th {\n",
       "        vertical-align: top;\n",
       "    }\n",
       "\n",
       "    .dataframe thead th {\n",
       "        text-align: right;\n",
       "    }\n",
       "</style>\n",
       "<table border=\"1\" class=\"dataframe\">\n",
       "  <thead>\n",
       "    <tr style=\"text-align: right;\">\n",
       "      <th></th>\n",
       "      <th>complaint_id</th>\n",
       "      <th>date_received</th>\n",
       "      <th>district_occurrence</th>\n",
       "      <th>general_cap_classification</th>\n",
       "      <th>summary</th>\n",
       "      <th>incident_date_extract</th>\n",
       "      <th>incident_time_extract</th>\n",
       "      <th>objectid</th>\n",
       "    </tr>\n",
       "  </thead>\n",
       "  <tbody>\n",
       "    <tr>\n",
       "      <th>0</th>\n",
       "      <td>19-0183</td>\n",
       "      <td>2019-04-29 04:00:00+00</td>\n",
       "      <td>1600.0</td>\n",
       "      <td>PHYSICAL ABUSE</td>\n",
       "      <td>According to the complainant, on 04-25-19 at 1...</td>\n",
       "      <td>2019-04-25</td>\n",
       "      <td>10:00 PM</td>\n",
       "      <td>807</td>\n",
       "    </tr>\n",
       "    <tr>\n",
       "      <th>1</th>\n",
       "      <td>19-0184</td>\n",
       "      <td>2019-04-29 04:00:00+00</td>\n",
       "      <td>1600.0</td>\n",
       "      <td>CRIMINAL ALLEGATION</td>\n",
       "      <td>According to the complainant, on 4-16-19 or 4-...</td>\n",
       "      <td>2019-04-16</td>\n",
       "      <td>05:00 PM</td>\n",
       "      <td>808</td>\n",
       "    </tr>\n",
       "    <tr>\n",
       "      <th>2</th>\n",
       "      <td>19-0185</td>\n",
       "      <td>2019-04-29 04:00:00+00</td>\n",
       "      <td>1400.0</td>\n",
       "      <td>DEPARTMENTAL VIOLATIONS</td>\n",
       "      <td>According to the complainant, on 03-30-19 at 7...</td>\n",
       "      <td>2019-03-30</td>\n",
       "      <td>07:15 PM</td>\n",
       "      <td>809</td>\n",
       "    </tr>\n",
       "    <tr>\n",
       "      <th>3</th>\n",
       "      <td>19-0186</td>\n",
       "      <td>2019-04-29 04:00:00+00</td>\n",
       "      <td>1400.0</td>\n",
       "      <td>PHYSICAL ABUSE</td>\n",
       "      <td>According to the complainant, on 4-10-19 at 8:...</td>\n",
       "      <td>2019-04-10</td>\n",
       "      <td>08:00 PM</td>\n",
       "      <td>810</td>\n",
       "    </tr>\n",
       "    <tr>\n",
       "      <th>4</th>\n",
       "      <td>19-0187</td>\n",
       "      <td>2019-05-02 04:00:00+00</td>\n",
       "      <td>600.0</td>\n",
       "      <td>LACK OF SERVICE</td>\n",
       "      <td>According to the complainant, on 3-25-19, they...</td>\n",
       "      <td>2019-03-25</td>\n",
       "      <td>NaN</td>\n",
       "      <td>811</td>\n",
       "    </tr>\n",
       "  </tbody>\n",
       "</table>\n",
       "</div>"
      ],
      "text/plain": [
       "  complaint_id           date_received  district_occurrence  \\\n",
       "0      19-0183  2019-04-29 04:00:00+00               1600.0   \n",
       "1      19-0184  2019-04-29 04:00:00+00               1600.0   \n",
       "2      19-0185  2019-04-29 04:00:00+00               1400.0   \n",
       "3      19-0186  2019-04-29 04:00:00+00               1400.0   \n",
       "4      19-0187  2019-05-02 04:00:00+00                600.0   \n",
       "\n",
       "  general_cap_classification  \\\n",
       "0             PHYSICAL ABUSE   \n",
       "1        CRIMINAL ALLEGATION   \n",
       "2    DEPARTMENTAL VIOLATIONS   \n",
       "3             PHYSICAL ABUSE   \n",
       "4            LACK OF SERVICE   \n",
       "\n",
       "                                             summary incident_date_extract  \\\n",
       "0  According to the complainant, on 04-25-19 at 1...            2019-04-25   \n",
       "1  According to the complainant, on 4-16-19 or 4-...            2019-04-16   \n",
       "2  According to the complainant, on 03-30-19 at 7...            2019-03-30   \n",
       "3  According to the complainant, on 4-10-19 at 8:...            2019-04-10   \n",
       "4  According to the complainant, on 3-25-19, they...            2019-03-25   \n",
       "\n",
       "  incident_time_extract  objectid  \n",
       "0              10:00 PM       807  \n",
       "1              05:00 PM       808  \n",
       "2              07:15 PM       809  \n",
       "3              08:00 PM       810  \n",
       "4                   NaN       811  "
      ]
     },
     "execution_count": 104,
     "metadata": {},
     "output_type": "execute_result"
    }
   ],
   "source": [
    "df_2.head()"
   ]
  },
  {
   "cell_type": "code",
   "execution_count": 105,
   "id": "09d7c587",
   "metadata": {},
   "outputs": [
    {
     "data": {
      "text/plain": [
       "(3908, 8)"
      ]
     },
     "execution_count": 105,
     "metadata": {},
     "output_type": "execute_result"
    }
   ],
   "source": [
    "df_2.shape"
   ]
  },
  {
   "cell_type": "code",
   "execution_count": 106,
   "id": "67603737",
   "metadata": {},
   "outputs": [
    {
     "name": "stdout",
     "output_type": "stream",
     "text": [
      "<class 'pandas.core.frame.DataFrame'>\n",
      "RangeIndex: 3908 entries, 0 to 3907\n",
      "Data columns (total 8 columns):\n",
      " #   Column                      Non-Null Count  Dtype  \n",
      "---  ------                      --------------  -----  \n",
      " 0   complaint_id                3908 non-null   object \n",
      " 1   date_received               3908 non-null   object \n",
      " 2   district_occurrence         3790 non-null   float64\n",
      " 3   general_cap_classification  3906 non-null   object \n",
      " 4   summary                     3908 non-null   object \n",
      " 5   incident_date_extract       3613 non-null   object \n",
      " 6   incident_time_extract       3099 non-null   object \n",
      " 7   objectid                    3908 non-null   int64  \n",
      "dtypes: float64(1), int64(1), object(6)\n",
      "memory usage: 244.4+ KB\n"
     ]
    }
   ],
   "source": [
    "df_2.info()"
   ]
  },
  {
   "cell_type": "code",
   "execution_count": 107,
   "id": "0e330d2a",
   "metadata": {},
   "outputs": [
    {
     "data": {
      "text/html": [
       "<div>\n",
       "<style scoped>\n",
       "    .dataframe tbody tr th:only-of-type {\n",
       "        vertical-align: middle;\n",
       "    }\n",
       "\n",
       "    .dataframe tbody tr th {\n",
       "        vertical-align: top;\n",
       "    }\n",
       "\n",
       "    .dataframe thead th {\n",
       "        text-align: right;\n",
       "    }\n",
       "</style>\n",
       "<table border=\"1\" class=\"dataframe\">\n",
       "  <thead>\n",
       "    <tr style=\"text-align: right;\">\n",
       "      <th></th>\n",
       "      <th>complaint_id</th>\n",
       "      <th>officer_id</th>\n",
       "      <th>po_race</th>\n",
       "      <th>po_sex</th>\n",
       "      <th>po_assigned_unit</th>\n",
       "      <th>allegations_investigated</th>\n",
       "      <th>investigative_findings</th>\n",
       "      <th>disciplinary_findings</th>\n",
       "      <th>objectid</th>\n",
       "    </tr>\n",
       "  </thead>\n",
       "  <tbody>\n",
       "    <tr>\n",
       "      <th>0</th>\n",
       "      <td>18-0425</td>\n",
       "      <td>47882806.0</td>\n",
       "      <td>Latino</td>\n",
       "      <td>Male</td>\n",
       "      <td>2400 24TH DISTRICT</td>\n",
       "      <td>Departmental Violation</td>\n",
       "      <td>Sustained Finding</td>\n",
       "      <td>Guilty Finding</td>\n",
       "      <td>1170</td>\n",
       "    </tr>\n",
       "    <tr>\n",
       "      <th>1</th>\n",
       "      <td>18-0425</td>\n",
       "      <td>47882806.0</td>\n",
       "      <td>Latino</td>\n",
       "      <td>Male</td>\n",
       "      <td>2400 24TH DISTRICT</td>\n",
       "      <td>Lack of Service</td>\n",
       "      <td>Sustained Finding</td>\n",
       "      <td>Guilty Finding</td>\n",
       "      <td>1171</td>\n",
       "    </tr>\n",
       "    <tr>\n",
       "      <th>2</th>\n",
       "      <td>18-0425</td>\n",
       "      <td>47882806.0</td>\n",
       "      <td>Latino</td>\n",
       "      <td>Male</td>\n",
       "      <td>2400 24TH DISTRICT</td>\n",
       "      <td>Departmental Violation</td>\n",
       "      <td>Sustained Finding</td>\n",
       "      <td>Guilty Finding</td>\n",
       "      <td>1172</td>\n",
       "    </tr>\n",
       "    <tr>\n",
       "      <th>3</th>\n",
       "      <td>18-0426</td>\n",
       "      <td>46328584.0</td>\n",
       "      <td>White</td>\n",
       "      <td>Male</td>\n",
       "      <td>2500 25TH DISTRICT</td>\n",
       "      <td>Physical Abuse</td>\n",
       "      <td>No Sustained Findings</td>\n",
       "      <td>Not Applicable</td>\n",
       "      <td>1173</td>\n",
       "    </tr>\n",
       "    <tr>\n",
       "      <th>4</th>\n",
       "      <td>18-0426</td>\n",
       "      <td>46328584.0</td>\n",
       "      <td>White</td>\n",
       "      <td>Male</td>\n",
       "      <td>2500 25TH DISTRICT</td>\n",
       "      <td>Verbal Abuse</td>\n",
       "      <td>No Sustained Findings</td>\n",
       "      <td>Not Applicable</td>\n",
       "      <td>1174</td>\n",
       "    </tr>\n",
       "  </tbody>\n",
       "</table>\n",
       "</div>"
      ],
      "text/plain": [
       "  complaint_id  officer_id po_race po_sex    po_assigned_unit  \\\n",
       "0      18-0425  47882806.0  Latino   Male  2400 24TH DISTRICT   \n",
       "1      18-0425  47882806.0  Latino   Male  2400 24TH DISTRICT   \n",
       "2      18-0425  47882806.0  Latino   Male  2400 24TH DISTRICT   \n",
       "3      18-0426  46328584.0   White   Male  2500 25TH DISTRICT   \n",
       "4      18-0426  46328584.0   White   Male  2500 25TH DISTRICT   \n",
       "\n",
       "  allegations_investigated investigative_findings disciplinary_findings  \\\n",
       "0   Departmental Violation      Sustained Finding        Guilty Finding   \n",
       "1          Lack of Service      Sustained Finding        Guilty Finding   \n",
       "2   Departmental Violation      Sustained Finding        Guilty Finding   \n",
       "3           Physical Abuse  No Sustained Findings        Not Applicable   \n",
       "4             Verbal Abuse  No Sustained Findings        Not Applicable   \n",
       "\n",
       "   objectid  \n",
       "0      1170  \n",
       "1      1171  \n",
       "2      1172  \n",
       "3      1173  \n",
       "4      1174  "
      ]
     },
     "execution_count": 107,
     "metadata": {},
     "output_type": "execute_result"
    }
   ],
   "source": [
    "df_3.head()"
   ]
  },
  {
   "cell_type": "code",
   "execution_count": 108,
   "id": "1ad8f4a1",
   "metadata": {},
   "outputs": [
    {
     "data": {
      "text/plain": [
       "(11253, 9)"
      ]
     },
     "execution_count": 108,
     "metadata": {},
     "output_type": "execute_result"
    }
   ],
   "source": [
    "df_3.shape"
   ]
  },
  {
   "cell_type": "code",
   "execution_count": 109,
   "id": "20a229e1",
   "metadata": {},
   "outputs": [
    {
     "name": "stdout",
     "output_type": "stream",
     "text": [
      "<class 'pandas.core.frame.DataFrame'>\n",
      "RangeIndex: 11253 entries, 0 to 11252\n",
      "Data columns (total 9 columns):\n",
      " #   Column                    Non-Null Count  Dtype  \n",
      "---  ------                    --------------  -----  \n",
      " 0   complaint_id              11253 non-null  object \n",
      " 1   officer_id                10710 non-null  float64\n",
      " 2   po_race                   10710 non-null  object \n",
      " 3   po_sex                    10710 non-null  object \n",
      " 4   po_assigned_unit          10706 non-null  object \n",
      " 5   allegations_investigated  11251 non-null  object \n",
      " 6   investigative_findings    11251 non-null  object \n",
      " 7   disciplinary_findings     11251 non-null  object \n",
      " 8   objectid                  11253 non-null  int64  \n",
      "dtypes: float64(1), int64(1), object(7)\n",
      "memory usage: 791.4+ KB\n"
     ]
    }
   ],
   "source": [
    "df_3.info()"
   ]
  },
  {
   "cell_type": "code",
   "execution_count": 110,
   "id": "d60a054d",
   "metadata": {},
   "outputs": [],
   "source": [
    "#merge on common feature: complaint_id\n",
    "mdf = pd.merge(df, df_2, on = 'complaint_id')\n",
    "merged_df = pd.merge(mdf, df_3, on = 'complaint_id')"
   ]
  },
  {
   "cell_type": "code",
   "execution_count": 111,
   "id": "434b2cf5",
   "metadata": {},
   "outputs": [
    {
     "data": {
      "text/html": [
       "<div>\n",
       "<style scoped>\n",
       "    .dataframe tbody tr th:only-of-type {\n",
       "        vertical-align: middle;\n",
       "    }\n",
       "\n",
       "    .dataframe tbody tr th {\n",
       "        vertical-align: top;\n",
       "    }\n",
       "\n",
       "    .dataframe thead th {\n",
       "        text-align: right;\n",
       "    }\n",
       "</style>\n",
       "<table border=\"1\" class=\"dataframe\">\n",
       "  <thead>\n",
       "    <tr style=\"text-align: right;\">\n",
       "      <th></th>\n",
       "      <th>complaint_id</th>\n",
       "      <th>complainant_sex</th>\n",
       "      <th>complainant_race</th>\n",
       "      <th>complainant_age</th>\n",
       "      <th>objectid_x</th>\n",
       "      <th>date_received</th>\n",
       "      <th>district_occurrence</th>\n",
       "      <th>general_cap_classification</th>\n",
       "      <th>summary</th>\n",
       "      <th>incident_date_extract</th>\n",
       "      <th>incident_time_extract</th>\n",
       "      <th>objectid_y</th>\n",
       "      <th>officer_id</th>\n",
       "      <th>po_race</th>\n",
       "      <th>po_sex</th>\n",
       "      <th>po_assigned_unit</th>\n",
       "      <th>allegations_investigated</th>\n",
       "      <th>investigative_findings</th>\n",
       "      <th>disciplinary_findings</th>\n",
       "      <th>objectid</th>\n",
       "    </tr>\n",
       "  </thead>\n",
       "  <tbody>\n",
       "    <tr>\n",
       "      <th>0</th>\n",
       "      <td>17-0210</td>\n",
       "      <td>Male</td>\n",
       "      <td>Latino</td>\n",
       "      <td>33.0</td>\n",
       "      <td>3645</td>\n",
       "      <td>2017-05-04 04:00:00+00</td>\n",
       "      <td>9000.0</td>\n",
       "      <td>PHYSICAL ABUSE</td>\n",
       "      <td>According to the complainant, on 4-16-17 at 1:...</td>\n",
       "      <td>2017-04-16</td>\n",
       "      <td>01:45 AM</td>\n",
       "      <td>3466</td>\n",
       "      <td>91900216.0</td>\n",
       "      <td>White</td>\n",
       "      <td>Male</td>\n",
       "      <td>0900 09TH DISTRICT</td>\n",
       "      <td>Departmental Violation</td>\n",
       "      <td>No Sustained Findings</td>\n",
       "      <td>Not Applicable</td>\n",
       "      <td>10110</td>\n",
       "    </tr>\n",
       "    <tr>\n",
       "      <th>1</th>\n",
       "      <td>17-0210</td>\n",
       "      <td>Male</td>\n",
       "      <td>Latino</td>\n",
       "      <td>33.0</td>\n",
       "      <td>3645</td>\n",
       "      <td>2017-05-04 04:00:00+00</td>\n",
       "      <td>9000.0</td>\n",
       "      <td>PHYSICAL ABUSE</td>\n",
       "      <td>According to the complainant, on 4-16-17 at 1:...</td>\n",
       "      <td>2017-04-16</td>\n",
       "      <td>01:45 AM</td>\n",
       "      <td>3466</td>\n",
       "      <td>91900216.0</td>\n",
       "      <td>White</td>\n",
       "      <td>Male</td>\n",
       "      <td>0900 09TH DISTRICT</td>\n",
       "      <td>Physical Abuse</td>\n",
       "      <td>No Sustained Findings</td>\n",
       "      <td>Not Applicable</td>\n",
       "      <td>10111</td>\n",
       "    </tr>\n",
       "    <tr>\n",
       "      <th>2</th>\n",
       "      <td>17-0210</td>\n",
       "      <td>Male</td>\n",
       "      <td>Latino</td>\n",
       "      <td>33.0</td>\n",
       "      <td>3645</td>\n",
       "      <td>2017-05-04 04:00:00+00</td>\n",
       "      <td>9000.0</td>\n",
       "      <td>PHYSICAL ABUSE</td>\n",
       "      <td>According to the complainant, on 4-16-17 at 1:...</td>\n",
       "      <td>2017-04-16</td>\n",
       "      <td>01:45 AM</td>\n",
       "      <td>3466</td>\n",
       "      <td>52234079.0</td>\n",
       "      <td>White</td>\n",
       "      <td>Male</td>\n",
       "      <td>0900 09TH DISTRICT</td>\n",
       "      <td>Physical Abuse</td>\n",
       "      <td>No Sustained Findings</td>\n",
       "      <td>Not Applicable</td>\n",
       "      <td>10112</td>\n",
       "    </tr>\n",
       "    <tr>\n",
       "      <th>3</th>\n",
       "      <td>17-0210</td>\n",
       "      <td>Male</td>\n",
       "      <td>Latino</td>\n",
       "      <td>33.0</td>\n",
       "      <td>3645</td>\n",
       "      <td>2017-05-04 04:00:00+00</td>\n",
       "      <td>9000.0</td>\n",
       "      <td>PHYSICAL ABUSE</td>\n",
       "      <td>According to the complainant, on 4-16-17 at 1:...</td>\n",
       "      <td>2017-04-16</td>\n",
       "      <td>01:45 AM</td>\n",
       "      <td>3466</td>\n",
       "      <td>52234079.0</td>\n",
       "      <td>White</td>\n",
       "      <td>Male</td>\n",
       "      <td>0900 09TH DISTRICT</td>\n",
       "      <td>Departmental Violation</td>\n",
       "      <td>No Sustained Findings</td>\n",
       "      <td>Not Applicable</td>\n",
       "      <td>10113</td>\n",
       "    </tr>\n",
       "    <tr>\n",
       "      <th>4</th>\n",
       "      <td>17-0211</td>\n",
       "      <td>Male</td>\n",
       "      <td>Black</td>\n",
       "      <td>71.0</td>\n",
       "      <td>3646</td>\n",
       "      <td>2017-05-04 04:00:00+00</td>\n",
       "      <td>2400.0</td>\n",
       "      <td>LACK OF SERVICE</td>\n",
       "      <td>According to the complainant, on 4-25-17 at 1:...</td>\n",
       "      <td>2017-04-25</td>\n",
       "      <td>01:30 AM</td>\n",
       "      <td>3467</td>\n",
       "      <td>92448331.0</td>\n",
       "      <td>Black</td>\n",
       "      <td>Male</td>\n",
       "      <td>2500 25TH DISTRICT</td>\n",
       "      <td>Lack of Service</td>\n",
       "      <td>No Sustained Findings</td>\n",
       "      <td>Not Applicable</td>\n",
       "      <td>10114</td>\n",
       "    </tr>\n",
       "  </tbody>\n",
       "</table>\n",
       "</div>"
      ],
      "text/plain": [
       "  complaint_id complainant_sex complainant_race  complainant_age  objectid_x  \\\n",
       "0      17-0210            Male           Latino             33.0        3645   \n",
       "1      17-0210            Male           Latino             33.0        3645   \n",
       "2      17-0210            Male           Latino             33.0        3645   \n",
       "3      17-0210            Male           Latino             33.0        3645   \n",
       "4      17-0211            Male            Black             71.0        3646   \n",
       "\n",
       "            date_received  district_occurrence general_cap_classification  \\\n",
       "0  2017-05-04 04:00:00+00               9000.0             PHYSICAL ABUSE   \n",
       "1  2017-05-04 04:00:00+00               9000.0             PHYSICAL ABUSE   \n",
       "2  2017-05-04 04:00:00+00               9000.0             PHYSICAL ABUSE   \n",
       "3  2017-05-04 04:00:00+00               9000.0             PHYSICAL ABUSE   \n",
       "4  2017-05-04 04:00:00+00               2400.0            LACK OF SERVICE   \n",
       "\n",
       "                                             summary incident_date_extract  \\\n",
       "0  According to the complainant, on 4-16-17 at 1:...            2017-04-16   \n",
       "1  According to the complainant, on 4-16-17 at 1:...            2017-04-16   \n",
       "2  According to the complainant, on 4-16-17 at 1:...            2017-04-16   \n",
       "3  According to the complainant, on 4-16-17 at 1:...            2017-04-16   \n",
       "4  According to the complainant, on 4-25-17 at 1:...            2017-04-25   \n",
       "\n",
       "  incident_time_extract  objectid_y  officer_id po_race po_sex  \\\n",
       "0              01:45 AM        3466  91900216.0   White   Male   \n",
       "1              01:45 AM        3466  91900216.0   White   Male   \n",
       "2              01:45 AM        3466  52234079.0   White   Male   \n",
       "3              01:45 AM        3466  52234079.0   White   Male   \n",
       "4              01:30 AM        3467  92448331.0   Black   Male   \n",
       "\n",
       "     po_assigned_unit allegations_investigated investigative_findings  \\\n",
       "0  0900 09TH DISTRICT   Departmental Violation  No Sustained Findings   \n",
       "1  0900 09TH DISTRICT           Physical Abuse  No Sustained Findings   \n",
       "2  0900 09TH DISTRICT           Physical Abuse  No Sustained Findings   \n",
       "3  0900 09TH DISTRICT   Departmental Violation  No Sustained Findings   \n",
       "4  2500 25TH DISTRICT          Lack of Service  No Sustained Findings   \n",
       "\n",
       "  disciplinary_findings  objectid  \n",
       "0        Not Applicable     10110  \n",
       "1        Not Applicable     10111  \n",
       "2        Not Applicable     10112  \n",
       "3        Not Applicable     10113  \n",
       "4        Not Applicable     10114  "
      ]
     },
     "execution_count": 111,
     "metadata": {},
     "output_type": "execute_result"
    }
   ],
   "source": [
    "merged_df.head()"
   ]
  },
  {
   "cell_type": "code",
   "execution_count": 112,
   "id": "dd1b5a48",
   "metadata": {},
   "outputs": [],
   "source": [
    "#drop columns not relavant to our project\n",
    "columns_to_drop = ['complainant_age', 'objectid_x', 'district_occurrence', 'summary', 'incident_date_extract', 'incident_time_extract', 'objectid_y', 'complainant_sex', 'complainant_race', 'officer_id', 'po_assigned_unit', 'allegations_investigated', 'objectid', 'disciplinary_findings']\n",
    "merged_df = merged_df.drop(columns = columns_to_drop)"
   ]
  },
  {
   "cell_type": "code",
   "execution_count": 113,
   "id": "5d3e5c55",
   "metadata": {
    "scrolled": true
   },
   "outputs": [
    {
     "data": {
      "text/html": [
       "<div>\n",
       "<style scoped>\n",
       "    .dataframe tbody tr th:only-of-type {\n",
       "        vertical-align: middle;\n",
       "    }\n",
       "\n",
       "    .dataframe tbody tr th {\n",
       "        vertical-align: top;\n",
       "    }\n",
       "\n",
       "    .dataframe thead th {\n",
       "        text-align: right;\n",
       "    }\n",
       "</style>\n",
       "<table border=\"1\" class=\"dataframe\">\n",
       "  <thead>\n",
       "    <tr style=\"text-align: right;\">\n",
       "      <th></th>\n",
       "      <th>complaint_id</th>\n",
       "      <th>date_received</th>\n",
       "      <th>general_cap_classification</th>\n",
       "      <th>po_race</th>\n",
       "      <th>po_sex</th>\n",
       "      <th>investigative_findings</th>\n",
       "    </tr>\n",
       "  </thead>\n",
       "  <tbody>\n",
       "    <tr>\n",
       "      <th>0</th>\n",
       "      <td>17-0210</td>\n",
       "      <td>2017-05-04 04:00:00+00</td>\n",
       "      <td>PHYSICAL ABUSE</td>\n",
       "      <td>White</td>\n",
       "      <td>Male</td>\n",
       "      <td>No Sustained Findings</td>\n",
       "    </tr>\n",
       "    <tr>\n",
       "      <th>1</th>\n",
       "      <td>17-0210</td>\n",
       "      <td>2017-05-04 04:00:00+00</td>\n",
       "      <td>PHYSICAL ABUSE</td>\n",
       "      <td>White</td>\n",
       "      <td>Male</td>\n",
       "      <td>No Sustained Findings</td>\n",
       "    </tr>\n",
       "    <tr>\n",
       "      <th>2</th>\n",
       "      <td>17-0210</td>\n",
       "      <td>2017-05-04 04:00:00+00</td>\n",
       "      <td>PHYSICAL ABUSE</td>\n",
       "      <td>White</td>\n",
       "      <td>Male</td>\n",
       "      <td>No Sustained Findings</td>\n",
       "    </tr>\n",
       "    <tr>\n",
       "      <th>3</th>\n",
       "      <td>17-0210</td>\n",
       "      <td>2017-05-04 04:00:00+00</td>\n",
       "      <td>PHYSICAL ABUSE</td>\n",
       "      <td>White</td>\n",
       "      <td>Male</td>\n",
       "      <td>No Sustained Findings</td>\n",
       "    </tr>\n",
       "    <tr>\n",
       "      <th>4</th>\n",
       "      <td>17-0211</td>\n",
       "      <td>2017-05-04 04:00:00+00</td>\n",
       "      <td>LACK OF SERVICE</td>\n",
       "      <td>Black</td>\n",
       "      <td>Male</td>\n",
       "      <td>No Sustained Findings</td>\n",
       "    </tr>\n",
       "  </tbody>\n",
       "</table>\n",
       "</div>"
      ],
      "text/plain": [
       "  complaint_id           date_received general_cap_classification po_race  \\\n",
       "0      17-0210  2017-05-04 04:00:00+00             PHYSICAL ABUSE   White   \n",
       "1      17-0210  2017-05-04 04:00:00+00             PHYSICAL ABUSE   White   \n",
       "2      17-0210  2017-05-04 04:00:00+00             PHYSICAL ABUSE   White   \n",
       "3      17-0210  2017-05-04 04:00:00+00             PHYSICAL ABUSE   White   \n",
       "4      17-0211  2017-05-04 04:00:00+00            LACK OF SERVICE   Black   \n",
       "\n",
       "  po_sex investigative_findings  \n",
       "0   Male  No Sustained Findings  \n",
       "1   Male  No Sustained Findings  \n",
       "2   Male  No Sustained Findings  \n",
       "3   Male  No Sustained Findings  \n",
       "4   Male  No Sustained Findings  "
      ]
     },
     "execution_count": 113,
     "metadata": {},
     "output_type": "execute_result"
    }
   ],
   "source": [
    "merged_df.head()"
   ]
  },
  {
   "cell_type": "code",
   "execution_count": 114,
   "id": "87bc624b",
   "metadata": {},
   "outputs": [
    {
     "data": {
      "text/plain": [
       "20-0250    50\n",
       "20-0246    42\n",
       "21-0306    42\n",
       "20-0327    39\n",
       "20-0445    36\n",
       "           ..\n",
       "20-0552     1\n",
       "20-0549     1\n",
       "20-0545     1\n",
       "20-0544     1\n",
       "23-0057     1\n",
       "Name: complaint_id, Length: 3875, dtype: int64"
      ]
     },
     "execution_count": 114,
     "metadata": {},
     "output_type": "execute_result"
    }
   ],
   "source": [
    "#check for duplicates\n",
    "merged_df['complaint_id'].value_counts()"
   ]
  },
  {
   "cell_type": "code",
   "execution_count": 115,
   "id": "9a784257",
   "metadata": {},
   "outputs": [],
   "source": [
    "#drop them\n",
    "no_dups = merged_df.drop_duplicates()"
   ]
  },
  {
   "cell_type": "code",
   "execution_count": 116,
   "id": "83b871c5",
   "metadata": {},
   "outputs": [
    {
     "data": {
      "text/html": [
       "<div>\n",
       "<style scoped>\n",
       "    .dataframe tbody tr th:only-of-type {\n",
       "        vertical-align: middle;\n",
       "    }\n",
       "\n",
       "    .dataframe tbody tr th {\n",
       "        vertical-align: top;\n",
       "    }\n",
       "\n",
       "    .dataframe thead th {\n",
       "        text-align: right;\n",
       "    }\n",
       "</style>\n",
       "<table border=\"1\" class=\"dataframe\">\n",
       "  <thead>\n",
       "    <tr style=\"text-align: right;\">\n",
       "      <th></th>\n",
       "      <th>complaint_id</th>\n",
       "      <th>date_received</th>\n",
       "      <th>general_cap_classification</th>\n",
       "      <th>po_race</th>\n",
       "      <th>po_sex</th>\n",
       "      <th>investigative_findings</th>\n",
       "    </tr>\n",
       "  </thead>\n",
       "  <tbody>\n",
       "    <tr>\n",
       "      <th>0</th>\n",
       "      <td>17-0210</td>\n",
       "      <td>2017-05-04 04:00:00+00</td>\n",
       "      <td>PHYSICAL ABUSE</td>\n",
       "      <td>White</td>\n",
       "      <td>Male</td>\n",
       "      <td>No Sustained Findings</td>\n",
       "    </tr>\n",
       "    <tr>\n",
       "      <th>4</th>\n",
       "      <td>17-0211</td>\n",
       "      <td>2017-05-04 04:00:00+00</td>\n",
       "      <td>LACK OF SERVICE</td>\n",
       "      <td>Black</td>\n",
       "      <td>Male</td>\n",
       "      <td>No Sustained Findings</td>\n",
       "    </tr>\n",
       "    <tr>\n",
       "      <th>5</th>\n",
       "      <td>17-0212</td>\n",
       "      <td>2017-04-27 04:00:00+00</td>\n",
       "      <td>CRIMINAL ALLEGATION</td>\n",
       "      <td>NaN</td>\n",
       "      <td>NaN</td>\n",
       "      <td>No Sustained Findings</td>\n",
       "    </tr>\n",
       "    <tr>\n",
       "      <th>6</th>\n",
       "      <td>17-0213</td>\n",
       "      <td>2017-05-04 04:00:00+00</td>\n",
       "      <td>VERBAL ABUSE</td>\n",
       "      <td>Black</td>\n",
       "      <td>Female</td>\n",
       "      <td>No Sustained Findings</td>\n",
       "    </tr>\n",
       "    <tr>\n",
       "      <th>8</th>\n",
       "      <td>17-0214</td>\n",
       "      <td>2017-05-04 04:00:00+00</td>\n",
       "      <td>DEPARTMENTAL VIOLATIONS</td>\n",
       "      <td>Black</td>\n",
       "      <td>Female</td>\n",
       "      <td>No Sustained Findings</td>\n",
       "    </tr>\n",
       "  </tbody>\n",
       "</table>\n",
       "</div>"
      ],
      "text/plain": [
       "  complaint_id           date_received general_cap_classification po_race  \\\n",
       "0      17-0210  2017-05-04 04:00:00+00             PHYSICAL ABUSE   White   \n",
       "4      17-0211  2017-05-04 04:00:00+00            LACK OF SERVICE   Black   \n",
       "5      17-0212  2017-04-27 04:00:00+00        CRIMINAL ALLEGATION     NaN   \n",
       "6      17-0213  2017-05-04 04:00:00+00               VERBAL ABUSE   Black   \n",
       "8      17-0214  2017-05-04 04:00:00+00    DEPARTMENTAL VIOLATIONS   Black   \n",
       "\n",
       "   po_sex investigative_findings  \n",
       "0    Male  No Sustained Findings  \n",
       "4    Male  No Sustained Findings  \n",
       "5     NaN  No Sustained Findings  \n",
       "6  Female  No Sustained Findings  \n",
       "8  Female  No Sustained Findings  "
      ]
     },
     "execution_count": 116,
     "metadata": {},
     "output_type": "execute_result"
    }
   ],
   "source": [
    "no_dups.head()"
   ]
  },
  {
   "cell_type": "code",
   "execution_count": 117,
   "id": "7692a90c",
   "metadata": {},
   "outputs": [
    {
     "name": "stdout",
     "output_type": "stream",
     "text": [
      "<class 'pandas.core.frame.DataFrame'>\n",
      "Int64Index: 6384 entries, 0 to 11971\n",
      "Data columns (total 6 columns):\n",
      " #   Column                      Non-Null Count  Dtype \n",
      "---  ------                      --------------  ----- \n",
      " 0   complaint_id                6384 non-null   object\n",
      " 1   date_received               6384 non-null   object\n",
      " 2   general_cap_classification  6382 non-null   object\n",
      " 3   po_race                     5930 non-null   object\n",
      " 4   po_sex                      5930 non-null   object\n",
      " 5   investigative_findings      6382 non-null   object\n",
      "dtypes: object(6)\n",
      "memory usage: 349.1+ KB\n"
     ]
    }
   ],
   "source": [
    "no_dups.info()"
   ]
  },
  {
   "cell_type": "code",
   "execution_count": 118,
   "id": "c1c3f90e",
   "metadata": {},
   "outputs": [],
   "source": [
    "#drop missing values\n",
    "cleaned = no_dups.dropna()"
   ]
  },
  {
   "cell_type": "code",
   "execution_count": 119,
   "id": "151cedff",
   "metadata": {},
   "outputs": [
    {
     "data": {
      "text/html": [
       "<div>\n",
       "<style scoped>\n",
       "    .dataframe tbody tr th:only-of-type {\n",
       "        vertical-align: middle;\n",
       "    }\n",
       "\n",
       "    .dataframe tbody tr th {\n",
       "        vertical-align: top;\n",
       "    }\n",
       "\n",
       "    .dataframe thead th {\n",
       "        text-align: right;\n",
       "    }\n",
       "</style>\n",
       "<table border=\"1\" class=\"dataframe\">\n",
       "  <thead>\n",
       "    <tr style=\"text-align: right;\">\n",
       "      <th></th>\n",
       "      <th>complaint_id</th>\n",
       "      <th>date_received</th>\n",
       "      <th>general_cap_classification</th>\n",
       "      <th>po_race</th>\n",
       "      <th>po_sex</th>\n",
       "      <th>investigative_findings</th>\n",
       "    </tr>\n",
       "  </thead>\n",
       "  <tbody>\n",
       "    <tr>\n",
       "      <th>0</th>\n",
       "      <td>17-0210</td>\n",
       "      <td>2017-05-04 04:00:00+00</td>\n",
       "      <td>PHYSICAL ABUSE</td>\n",
       "      <td>White</td>\n",
       "      <td>Male</td>\n",
       "      <td>No Sustained Findings</td>\n",
       "    </tr>\n",
       "    <tr>\n",
       "      <th>4</th>\n",
       "      <td>17-0211</td>\n",
       "      <td>2017-05-04 04:00:00+00</td>\n",
       "      <td>LACK OF SERVICE</td>\n",
       "      <td>Black</td>\n",
       "      <td>Male</td>\n",
       "      <td>No Sustained Findings</td>\n",
       "    </tr>\n",
       "    <tr>\n",
       "      <th>6</th>\n",
       "      <td>17-0213</td>\n",
       "      <td>2017-05-04 04:00:00+00</td>\n",
       "      <td>VERBAL ABUSE</td>\n",
       "      <td>Black</td>\n",
       "      <td>Female</td>\n",
       "      <td>No Sustained Findings</td>\n",
       "    </tr>\n",
       "    <tr>\n",
       "      <th>8</th>\n",
       "      <td>17-0214</td>\n",
       "      <td>2017-05-04 04:00:00+00</td>\n",
       "      <td>DEPARTMENTAL VIOLATIONS</td>\n",
       "      <td>Black</td>\n",
       "      <td>Female</td>\n",
       "      <td>No Sustained Findings</td>\n",
       "    </tr>\n",
       "    <tr>\n",
       "      <th>12</th>\n",
       "      <td>17-0216</td>\n",
       "      <td>2017-05-04 04:00:00+00</td>\n",
       "      <td>DEPARTMENTAL VIOLATIONS</td>\n",
       "      <td>White</td>\n",
       "      <td>Male</td>\n",
       "      <td>No Sustained Findings</td>\n",
       "    </tr>\n",
       "  </tbody>\n",
       "</table>\n",
       "</div>"
      ],
      "text/plain": [
       "   complaint_id           date_received general_cap_classification po_race  \\\n",
       "0       17-0210  2017-05-04 04:00:00+00             PHYSICAL ABUSE   White   \n",
       "4       17-0211  2017-05-04 04:00:00+00            LACK OF SERVICE   Black   \n",
       "6       17-0213  2017-05-04 04:00:00+00               VERBAL ABUSE   Black   \n",
       "8       17-0214  2017-05-04 04:00:00+00    DEPARTMENTAL VIOLATIONS   Black   \n",
       "12      17-0216  2017-05-04 04:00:00+00    DEPARTMENTAL VIOLATIONS   White   \n",
       "\n",
       "    po_sex investigative_findings  \n",
       "0     Male  No Sustained Findings  \n",
       "4     Male  No Sustained Findings  \n",
       "6   Female  No Sustained Findings  \n",
       "8   Female  No Sustained Findings  \n",
       "12    Male  No Sustained Findings  "
      ]
     },
     "execution_count": 119,
     "metadata": {},
     "output_type": "execute_result"
    }
   ],
   "source": [
    "cleaned.head()"
   ]
  },
  {
   "cell_type": "code",
   "execution_count": 120,
   "id": "b1dc9a70",
   "metadata": {},
   "outputs": [
    {
     "name": "stdout",
     "output_type": "stream",
     "text": [
      "<class 'pandas.core.frame.DataFrame'>\n",
      "Int64Index: 5926 entries, 0 to 11971\n",
      "Data columns (total 6 columns):\n",
      " #   Column                      Non-Null Count  Dtype \n",
      "---  ------                      --------------  ----- \n",
      " 0   complaint_id                5926 non-null   object\n",
      " 1   date_received               5926 non-null   object\n",
      " 2   general_cap_classification  5926 non-null   object\n",
      " 3   po_race                     5926 non-null   object\n",
      " 4   po_sex                      5926 non-null   object\n",
      " 5   investigative_findings      5926 non-null   object\n",
      "dtypes: object(6)\n",
      "memory usage: 324.1+ KB\n"
     ]
    }
   ],
   "source": [
    "cleaned.info()"
   ]
  },
  {
   "cell_type": "markdown",
   "id": "8b6a9a4c",
   "metadata": {},
   "source": [
    "Data is cleaned & ready for EDA!"
   ]
  },
  {
   "cell_type": "code",
   "execution_count": 125,
   "id": "84b008bd",
   "metadata": {},
   "outputs": [
    {
     "name": "stdout",
     "output_type": "stream",
     "text": [
      "DEPARTMENTAL VIOLATIONS       1776\n",
      "LACK OF SERVICE               1291\n",
      "PHYSICAL ABUSE                1039\n",
      "UNPROFESSIONAL CONDUCT         523\n",
      "VERBAL ABUSE                   368\n",
      "HARASSMENT                     240\n",
      "CIVIL RIGHTS COMPLAINT         237\n",
      "CRIMINAL ALLEGATION            235\n",
      "NON-INVESTIGATORY INCIDENT      87\n",
      "DOMESTIC                        54\n",
      "FALSIFICATION                   42\n",
      "SEXUAL CRIME/MISCONDUCT         29\n",
      "DRUGS                            3\n",
      "OTHER MISCONDUCT                 1\n",
      "FORCE-TASER/CED/ECW              1\n",
      "Name: general_cap_classification, dtype: int64\n"
     ]
    }
   ],
   "source": [
    "#let's get an idea of the occurence of each complaint type\n",
    "complaint_types = cleaned['general_cap_classification'].value_counts()\n",
    "print(complaint_types)"
   ]
  },
  {
   "cell_type": "code",
   "execution_count": 122,
   "id": "5c6c7433",
   "metadata": {},
   "outputs": [
    {
     "name": "stderr",
     "output_type": "stream",
     "text": [
      "/var/folders/l0/nstnpmsj4vx3h2j35yqllfcr0000gn/T/ipykernel_73481/1589563292.py:6: UserWarning: FixedFormatter should only be used together with FixedLocator\n",
      "  ax.set_xticklabels(ax.get_xticklabels(), rotation=45)\n"
     ]
    },
    {
     "data": {
      "image/png": "[encoded data removed]",
      "text/plain": [
       "<Figure size 640x480 with 1 Axes>"
      ]
     },
     "metadata": {},
     "output_type": "display_data"
    }
   ],
   "source": [
    "#same for racial makeup of officer's receiving complaints\n",
    "ax = cleaned['po_race'].hist(bins = 20)\n",
    "ax.set_ylabel('Count')\n",
    "ax.set_xlabel('Officer Race')\n",
    "ax.set_title('Complaint Volume by Race')\n",
    "ax.set_xticklabels(ax.get_xticklabels(), rotation=45)\n",
    "plt.show()"
   ]
  },
  {
   "cell_type": "markdown",
   "id": "deea97f2",
   "metadata": {},
   "source": [
    "For context, the PPD racial makeup is about 57% white and 30% black, so this is not shockingly disproportionate at first glance."
   ]
  },
  {
   "cell_type": "code",
   "execution_count": 123,
   "id": "6a531063",
   "metadata": {},
   "outputs": [
    {
     "name": "stderr",
     "output_type": "stream",
     "text": [
      "/var/folders/l0/nstnpmsj4vx3h2j35yqllfcr0000gn/T/ipykernel_73481/2972318959.py:6: UserWarning: FixedFormatter should only be used together with FixedLocator\n",
      "  ax.set_xticklabels(ax.get_xticklabels(), rotation=45)\n"
     ]
    },
    {
     "data": {
      "image/png": "[encoded data removed]",
      "text/plain": [
       "<Figure size 640x480 with 1 Axes>"
      ]
     },
     "metadata": {},
     "output_type": "display_data"
    }
   ],
   "source": [
    "#how often are complaints sustained?\n",
    "ax = cleaned['investigative_findings'].hist(bins = 20)\n",
    "ax.set_ylabel('Count')\n",
    "ax.set_xlabel('Status of Investigation')\n",
    "ax.set_title('Investigative Findings')\n",
    "ax.set_xticklabels(ax.get_xticklabels(), rotation=45)\n",
    "plt.show()"
   ]
  },
  {
   "cell_type": "code",
   "execution_count": 134,
   "id": "f52fc012",
   "metadata": {},
   "outputs": [
    {
     "data": {
      "image/png": "[encoded data removed]",
      "text/plain": [
       "<Figure size 1000x600 with 1 Axes>"
      ]
     },
     "metadata": {},
     "output_type": "display_data"
    }
   ],
   "source": [
    "#now let's visualize investigative_findings by po_race\n",
    "grouped_counts = cleaned.groupby(['po_race', 'investigative_findings']).size().unstack(fill_value=0)\n",
    "axx = grouped_counts.plot(kind='bar', stacked=False, figsize=(10, 6))\n",
    "plt.xlabel('PO Race')\n",
    "plt.ylabel('Count')\n",
    "plt.title('Investigative Findings by PO Race')\n",
    "plt.xticks(rotation=0)\n",
    "axx.legend(title='Investigative Findings')\n",
    "for container in axx.containers:\n",
    "    axx.bar_label(container, fmt='%d', label_type='edge')\n",
    "plt.show()"
   ]
  },
  {
   "cell_type": "code",
   "execution_count": 141,
   "id": "b162f369",
   "metadata": {},
   "outputs": [
    {
     "name": "stdout",
     "output_type": "stream",
     "text": [
      "Complaints against Black PPD officers are sustained  0.28618968386023297 % of the time.\n",
      "Complaints against White PPD officers are sustained  0.28385772913816687 % of the time.\n",
      "Complaints against Latino PPD officers are sustained  0.2830188679245283 % of the time.\n"
     ]
    }
   ],
   "source": [
    "#rate at which complaints against Black PPD officers are sustained\n",
    "b_rate = 516 / (1287 + 516)\n",
    "print('Complaints against Black PPD officers are sustained ', b_rate, '% of the time.')\n",
    "\n",
    "#rate at which complaints against White PPD officers are sustained\n",
    "w_rate = 830 / (2094 + 830)\n",
    "print('Complaints against White PPD officers are sustained ', w_rate, '% of the time.')\n",
    "\n",
    "#rate at which complaints against Latino PPD officers are sustained\n",
    "l_rate = 180 / (456 + 180)\n",
    "print('Complaints against Latino PPD officers are sustained ', l_rate, '% of the time.')"
   ]
  }
 ],
 "metadata": {
  "kernelspec": {
   "display_name": "Python 3 (ipykernel)",
   "language": "python",
   "name": "python3"
  },
  "language_info": {
   "codemirror_mode": {
    "name": "ipython",
    "version": 3
   },
   "file_extension": ".py",
   "mimetype": "text/x-python",
   "name": "python",
   "nbconvert_exporter": "python",
   "pygments_lexer": "ipython3",
   "version": "3.10.9"
  }
 },
 "nbformat": 4,
 "nbformat_minor": 5
}
